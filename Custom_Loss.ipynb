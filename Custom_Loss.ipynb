{
  "nbformat": 4,
  "nbformat_minor": 0,
  "metadata": {
    "colab": {
      "name": "Custom_Loss.ipynb",
      "provenance": [],
      "authorship_tag": "ABX9TyMDBseePC0rWT57g/Dtg5nV"
    },
    "kernelspec": {
      "name": "python3",
      "display_name": "Python 3"
    }
  },
  "cells": [
    {
      "cell_type": "code",
      "metadata": {
        "id": "U5ctYUqbZmWO"
      },
      "source": [
        "try:\r\n",
        "  %tensorflow_version 2.x\r\n",
        "except Exception:\r\n",
        "  pass"
      ],
      "execution_count": 1,
      "outputs": []
    },
    {
      "cell_type": "code",
      "metadata": {
        "id": "Z4G5DpHiYuHb"
      },
      "source": [
        "import tensorflow as tf \r\n",
        "import numpy as np \r\n",
        "from tensorflow import keras"
      ],
      "execution_count": 2,
      "outputs": []
    },
    {
      "cell_type": "code",
      "metadata": {
        "id": "lyLWXxuGZs71"
      },
      "source": [
        "#Relation between xs and ys is 2x-1\r\n",
        "\r\n",
        "xs = np.array([-1.0,0.0,2.0,3.0,4.0],dtype=float)\r\n",
        "ys = np.array([-3.0,-1.0,3.0,5.0,7.0],dtype=float)"
      ],
      "execution_count": 3,
      "outputs": []
    },
    {
      "cell_type": "code",
      "metadata": {
        "colab": {
          "base_uri": "https://localhost:8080/"
        },
        "id": "3n1prwokaG5R",
        "outputId": "4b076a3f-0a1c-4da2-c52f-eea648793b60"
      },
      "source": [
        "xs"
      ],
      "execution_count": 4,
      "outputs": [
        {
          "output_type": "execute_result",
          "data": {
            "text/plain": [
              "array([-1.,  0.,  2.,  3.,  4.])"
            ]
          },
          "metadata": {
            "tags": []
          },
          "execution_count": 4
        }
      ]
    },
    {
      "cell_type": "markdown",
      "metadata": {
        "id": "L3o6Cce2E0B_"
      },
      "source": [
        "#**Model Building**"
      ]
    },
    {
      "cell_type": "code",
      "metadata": {
        "colab": {
          "base_uri": "https://localhost:8080/"
        },
        "id": "r63lZ1t5aIWp",
        "outputId": "59fc19f3-5924-4981-9cfd-4959888df20d"
      },
      "source": [
        "model = tf.keras.Sequential([keras.layers.Dense(units=1,input_shape=[1])])\r\n",
        "model.compile(optimizer='sgd',loss='mean_squared_error')\r\n",
        "model.fit(xs,ys,epochs=100,verbose=0)\r\n",
        "print(model.predict([10.0]))"
      ],
      "execution_count": 5,
      "outputs": [
        {
          "output_type": "stream",
          "text": [
            "[[18.23743]]\n"
          ],
          "name": "stdout"
        }
      ]
    },
    {
      "cell_type": "markdown",
      "metadata": {
        "id": "dwex660LcuJy"
      },
      "source": [
        "#**Custom Loss Function**"
      ]
    },
    {
      "cell_type": "code",
      "metadata": {
        "id": "w2jKkBcsawcj"
      },
      "source": [
        "def my_huber_loss(y_true,y_pred):\r\n",
        "  threshold = 1\r\n",
        "  error=y_true - y_pred\r\n",
        "  is_small_error=tf.abs(error)< threshold\r\n",
        "  small_error_loss = tf.square(error)/2\r\n",
        "  big_error_loss = threshold * (tf.abs(error) - (0.5 * threshold))\r\n",
        "  return tf.where(is_small_error,small_error_loss,big_error_loss)"
      ],
      "execution_count": 6,
      "outputs": []
    },
    {
      "cell_type": "code",
      "metadata": {
        "colab": {
          "base_uri": "https://localhost:8080/"
        },
        "id": "Gic3PuZ2b_IT",
        "outputId": "d549eeeb-e2ed-4861-89dc-f0fd35e1e27b"
      },
      "source": [
        "model = tf.keras.Sequential([keras.layers.Dense(units=1,input_shape=[1])])\r\n",
        "model.compile(optimizer='sgd',loss=my_huber_loss)\r\n",
        "model.fit(xs,ys,epochs=100,verbose=0)\r\n",
        "print(model.predict([10.0]))"
      ],
      "execution_count": 7,
      "outputs": [
        {
          "output_type": "stream",
          "text": [
            "[[17.85324]]\n"
          ],
          "name": "stdout"
        }
      ]
    },
    {
      "cell_type": "code",
      "metadata": {
        "id": "YVMVlbktdOtg"
      },
      "source": [
        "#wrap custom fun in a function so as to remove the hardcore value of custom function\r\n",
        "def my_huber_loss_with_threshold(threshold):\r\n",
        "  def my_huber_loss(y_true,y_pred):\r\n",
        "    threshold = 1\r\n",
        "    error=y_true - y_pred\r\n",
        "    is_small_error=tf.abs(error)< threshold\r\n",
        "    small_error_loss = tf.square(error)/2\r\n",
        "    big_error_loss = threshold * (tf.abs(error) - (0.5 * threshold))\r\n",
        "    return tf.where(is_small_error,small_error_loss,big_error_loss)\r\n",
        "  return my_huber_loss"
      ],
      "execution_count": 8,
      "outputs": []
    },
    {
      "cell_type": "code",
      "metadata": {
        "colab": {
          "base_uri": "https://localhost:8080/"
        },
        "id": "4-kFTsLQ1c_w",
        "outputId": "1f7f7bdc-33e7-494e-e70c-1a1ca51523be"
      },
      "source": [
        "model = tf.keras.Sequential([keras.layers.Dense(units=1,input_shape=[1])])\r\n",
        "model.compile(optimizer='sgd',loss=my_huber_loss_with_threshold(threshold=1.2))\r\n",
        "model.fit(xs,ys,epochs=100,verbose=0)\r\n",
        "print(model.predict([10.0]))"
      ],
      "execution_count": 9,
      "outputs": [
        {
          "output_type": "stream",
          "text": [
            "[[16.850943]]\n"
          ],
          "name": "stdout"
        }
      ]
    },
    {
      "cell_type": "markdown",
      "metadata": {
        "id": "LVAzpJ7MFOeq"
      },
      "source": [
        "#**Putting Custom Function in class and use that class in a model** "
      ]
    },
    {
      "cell_type": "code",
      "metadata": {
        "id": "B86jr-6n3KEf"
      },
      "source": [
        "from tensorflow.keras.losses import Loss\r\n",
        "\r\n",
        "class MyHuberLoss(Loss):\r\n",
        "  threshold = 1\r\n",
        "  def __init__(self,threshold):\r\n",
        "    supe().__init__()\r\n",
        "    self.threshold = threshold\r\n",
        "\r\n",
        "  def call(self,y_true,y_pred):\r\n",
        "    error=y_true - y_pred\r\n",
        "    is_small_error=tf.abs(error)<= self.threshold\r\n",
        "    small_error_loss = tf.square(error)/2\r\n",
        "    big_error_loss = self.threshold * (tf.abs(error) - (0.5 * self.threshold))\r\n",
        "    return tf.where(is_small_error,small_error_loss,big_error_loss)\r\n"
      ],
      "execution_count": 10,
      "outputs": []
    },
    {
      "cell_type": "code",
      "metadata": {
        "colab": {
          "base_uri": "https://localhost:8080/"
        },
        "id": "ujOHr90N3J3c",
        "outputId": "1a064ec0-0661-4354-dcb3-dae7eadbff11"
      },
      "source": [
        "model = tf.keras.Sequential([keras.layers.Dense(units=1,input_shape=[1])])\r\n",
        "model.compile(optimizer='sgd',loss=my_huber_loss_with_threshold(threshold=1.2))\r\n",
        "model.fit(xs,ys,epochs=100,verbose=0)\r\n",
        "print(model.predict([10.0]))"
      ],
      "execution_count": 11,
      "outputs": [
        {
          "output_type": "stream",
          "text": [
            "[[9.912713]]\n"
          ],
          "name": "stdout"
        }
      ]
    },
    {
      "cell_type": "code",
      "metadata": {
        "id": "Sc6uVhHfF4j3"
      },
      "source": [
        ""
      ],
      "execution_count": 11,
      "outputs": []
    }
  ]
}