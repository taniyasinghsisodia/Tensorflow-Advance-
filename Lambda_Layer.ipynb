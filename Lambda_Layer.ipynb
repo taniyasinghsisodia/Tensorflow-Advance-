{
  "nbformat": 4,
  "nbformat_minor": 0,
  "metadata": {
    "colab": {
      "name": "Lambda_Layer.ipynb",
      "provenance": [],
      "authorship_tag": "ABX9TyMjjJ1qcVT/NZDoQwTAeCUK"
    },
    "kernelspec": {
      "name": "python3",
      "display_name": "Python 3"
    }
  },
  "cells": [
    {
      "cell_type": "code",
      "metadata": {
        "id": "yfXSDhHNANsE"
      },
      "source": [
        "try:\r\n",
        "  %tensorflow_version 2.x\r\n",
        "except Exception:\r\n",
        "  pass"
      ],
      "execution_count": 1,
      "outputs": []
    },
    {
      "cell_type": "code",
      "metadata": {
        "id": "tSotFhBPAoHR"
      },
      "source": [
        "import tensorflow as tf"
      ],
      "execution_count": 2,
      "outputs": []
    },
    {
      "cell_type": "markdown",
      "metadata": {
        "id": "bH5gVsxPHChF"
      },
      "source": [
        "#**Simple neural network with relu activation used in the second last layer**"
      ]
    },
    {
      "cell_type": "code",
      "metadata": {
        "colab": {
          "base_uri": "https://localhost:8080/"
        },
        "id": "T_WpVnceGxmk",
        "outputId": "c2d0b0f7-9978-4064-f740-8ad6cb173325"
      },
      "source": [
        "mnist = tf.keras.datasets.mnist\r\n",
        "\r\n",
        "(x_train , y_train),(x_test,y_test)=mnist.load_data()\r\n",
        "x_train,x_test = x_train /255.0 ,x_test /255.0\r\n",
        "\r\n",
        "model =tf.keras.models.Sequential([\r\n",
        "                                   \r\n",
        "        tf.keras.layers.Flatten(input_shape=(28,28)),\r\n",
        "        tf.keras.layers.Dense(128),\r\n",
        "        tf.keras.layers.Dense(128,activation='relu')  ,\r\n",
        "        tf.keras.layers.Dense(10,activation='softmax')                          \r\n",
        "      ])\r\n",
        "\r\n",
        "model.compile(optimizer = 'adam',\r\n",
        "              loss='sparse_categorical_crossentropy',\r\n",
        "              metrics = ['accuracy'])\r\n",
        "\r\n",
        "model.fit(x_train,y_train,epochs=5)\r\n",
        "model.evaluate(x_test,y_test)"
      ],
      "execution_count": 10,
      "outputs": [
        {
          "output_type": "stream",
          "text": [
            "Epoch 1/5\n",
            "1875/1875 [==============================] - 5s 3ms/step - loss: 0.3951 - accuracy: 0.8841\n",
            "Epoch 2/5\n",
            "1875/1875 [==============================] - 5s 3ms/step - loss: 0.1137 - accuracy: 0.9667\n",
            "Epoch 3/5\n",
            "1875/1875 [==============================] - 5s 2ms/step - loss: 0.0839 - accuracy: 0.9741\n",
            "Epoch 4/5\n",
            "1875/1875 [==============================] - 5s 3ms/step - loss: 0.0697 - accuracy: 0.9775\n",
            "Epoch 5/5\n",
            "1875/1875 [==============================] - 5s 2ms/step - loss: 0.0568 - accuracy: 0.9814\n",
            "313/313 [==============================] - 1s 1ms/step - loss: 0.0929 - accuracy: 0.9727\n"
          ],
          "name": "stdout"
        },
        {
          "output_type": "execute_result",
          "data": {
            "text/plain": [
              "[0.0929369255900383, 0.9726999998092651]"
            ]
          },
          "metadata": {
            "tags": []
          },
          "execution_count": 10
        }
      ]
    },
    {
      "cell_type": "markdown",
      "metadata": {
        "id": "PehQRcmcIU5S"
      },
      "source": [
        "#**Customization**"
      ]
    },
    {
      "cell_type": "markdown",
      "metadata": {
        "id": "UZNTnngPGP_V"
      },
      "source": [
        "#**Introducing Lambda Layer**"
      ]
    },
    {
      "cell_type": "markdown",
      "metadata": {
        "id": "lCmGI0DgIidI"
      },
      "source": [
        "#Method-1"
      ]
    },
    {
      "cell_type": "code",
      "metadata": {
        "colab": {
          "base_uri": "https://localhost:8080/"
        },
        "id": "xT8GzhCNAq5x",
        "outputId": "275d9598-3187-49d2-96d0-1143ced09413"
      },
      "source": [
        "mnist = tf.keras.datasets.mnist\r\n",
        "\r\n",
        "(x_train , y_train),(x_test,y_test)=mnist.load_data()\r\n",
        "x_train,x_test = x_train /255.0 ,x_test /255.0\r\n",
        "\r\n",
        "model =tf.keras.models.Sequential([\r\n",
        "                                   \r\n",
        "        tf.keras.layers.Flatten(input_shape=(28,28)),\r\n",
        "        tf.keras.layers.Dense(128),\r\n",
        "        tf.keras.layers.Lambda(lambda x: tf.abs(x)),\r\n",
        "        #In the above layer in place of relu we will use lambda \r\n",
        "        # for adding cutomization in layer.\r\n",
        "        # relu return only the positive value and remove the negative \r\n",
        "        # one whereas here we use abs which return absolute value of x\r\n",
        "        tf.keras.layers.Dense(10,activation='softmax')                          \r\n",
        "      ])\r\n",
        "\r\n",
        "model.compile(optimizer = 'adam',\r\n",
        "              loss='sparse_categorical_crossentropy',\r\n",
        "              metrics = ['accuracy'])\r\n",
        "\r\n",
        "model.fit(x_train,y_train,epochs=5)\r\n",
        "model.evaluate(x_test,y_test)"
      ],
      "execution_count": 7,
      "outputs": [
        {
          "output_type": "stream",
          "text": [
            "Epoch 1/5\n",
            "1875/1875 [==============================] - 5s 2ms/step - loss: 0.4028 - accuracy: 0.8882\n",
            "Epoch 2/5\n",
            "1875/1875 [==============================] - 4s 2ms/step - loss: 0.0959 - accuracy: 0.9707\n",
            "Epoch 3/5\n",
            "1875/1875 [==============================] - 4s 2ms/step - loss: 0.0632 - accuracy: 0.9807\n",
            "Epoch 4/5\n",
            "1875/1875 [==============================] - 4s 2ms/step - loss: 0.0425 - accuracy: 0.9871\n",
            "Epoch 5/5\n",
            "1875/1875 [==============================] - 4s 2ms/step - loss: 0.0356 - accuracy: 0.9888\n",
            "313/313 [==============================] - 1s 1ms/step - loss: 0.0779 - accuracy: 0.9781\n"
          ],
          "name": "stdout"
        },
        {
          "output_type": "execute_result",
          "data": {
            "text/plain": [
              "[0.07788106054067612, 0.9781000018119812]"
            ]
          },
          "metadata": {
            "tags": []
          },
          "execution_count": 7
        }
      ]
    },
    {
      "cell_type": "markdown",
      "metadata": {
        "id": "qdNJR243EWqZ"
      },
      "source": [
        "#**Customize your own relu**"
      ]
    },
    {
      "cell_type": "markdown",
      "metadata": {
        "id": "KAzUildEIr2A"
      },
      "source": [
        "#Method-2"
      ]
    },
    {
      "cell_type": "code",
      "metadata": {
        "colab": {
          "base_uri": "https://localhost:8080/"
        },
        "id": "7WuvV5wMEVvw",
        "outputId": "8065b386-c66d-4922-8423-c0e9bb493875"
      },
      "source": [
        "from keras import backend as K\r\n",
        "mnist = tf.keras.datasets.mnist\r\n",
        "\r\n",
        "(x_train , y_train),(x_test,y_test)=mnist.load_data()\r\n",
        "x_train,x_test = x_train /255.0 ,x_test /255.0\r\n",
        "\r\n",
        "#customized relu\r\n",
        "def my_relu(x):\r\n",
        "  #return K.maximum(-0.1,x)\r\n",
        "  #return the value of x when value is greater than -0.1 \r\n",
        "  #Accuracy = 97.6\r\n",
        "  return K.maximum(0.2,x)\r\n",
        "  #return the value of x when value is greater than 0.2\r\n",
        "  #Accuracy = 97.4\r\n",
        "\r\n",
        "model =tf.keras.models.Sequential([\r\n",
        "                                   \r\n",
        "        tf.keras.layers.Flatten(input_shape=(28,28)),\r\n",
        "        tf.keras.layers.Dense(128),\r\n",
        "        tf.keras.layers.Lambda(my_relu),\r\n",
        "        tf.keras.layers.Dense(10,activation='softmax')                          \r\n",
        "      ])\r\n",
        "\r\n",
        "model.compile(optimizer = 'adam',\r\n",
        "              loss='sparse_categorical_crossentropy',\r\n",
        "              metrics = ['accuracy'])\r\n",
        "\r\n",
        "model.fit(x_train,y_train,epochs=5)\r\n",
        "model.evaluate(x_test,y_test)"
      ],
      "execution_count": 9,
      "outputs": [
        {
          "output_type": "stream",
          "text": [
            "Epoch 1/5\n",
            "1875/1875 [==============================] - 4s 2ms/step - loss: 0.4638 - accuracy: 0.8638\n",
            "Epoch 2/5\n",
            "1875/1875 [==============================] - 4s 2ms/step - loss: 0.1283 - accuracy: 0.9629\n",
            "Epoch 3/5\n",
            "1875/1875 [==============================] - 4s 2ms/step - loss: 0.0825 - accuracy: 0.9759\n",
            "Epoch 4/5\n",
            "1875/1875 [==============================] - 4s 2ms/step - loss: 0.0607 - accuracy: 0.9821\n",
            "Epoch 5/5\n",
            "1875/1875 [==============================] - 4s 2ms/step - loss: 0.0450 - accuracy: 0.9862\n",
            "313/313 [==============================] - 1s 1ms/step - loss: 0.0786 - accuracy: 0.9744\n"
          ],
          "name": "stdout"
        },
        {
          "output_type": "execute_result",
          "data": {
            "text/plain": [
              "[0.07855724543333054, 0.974399983882904]"
            ]
          },
          "metadata": {
            "tags": []
          },
          "execution_count": 9
        }
      ]
    },
    {
      "cell_type": "markdown",
      "metadata": {
        "id": "q-ZFz6BVGdHo"
      },
      "source": [
        "#**Observed Accuracy**\r\n",
        "\r\n",
        "Relu = 97.2\r\n",
        "\r\n",
        "Absolute = 97.8\r\n",
        "\r\n",
        "Custom Relu = 97.4\r\n"
      ]
    }
  ]
}